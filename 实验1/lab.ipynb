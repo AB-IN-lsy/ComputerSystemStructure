{
 "cells": [
  {
   "cell_type": "code",
   "execution_count": 1,
   "metadata": {},
   "outputs": [],
   "source": [
    "'''\n",
    "Author: NEFU AB-IN\n",
    "Date: 2022-11-07 14:44:37\n",
    "FilePath: \\实验报告\\实验一\\lab.ipynb\n",
    "LastEditTime: 2022-11-07 16:28:55\n",
    "'''\n",
    "import numpy as np\n",
    "import os\n",
    "import pandas as pd\n",
    "import matplotlib.pyplot as plt\n",
    "import warnings\n",
    "warnings.filterwarnings(\"ignore\")"
   ]
  },
  {
   "cell_type": "code",
   "execution_count": 2,
   "metadata": {},
   "outputs": [
    {
     "data": {
      "text/plain": [
       "<Figure size 432x288 with 0 Axes>"
      ]
     },
     "metadata": {},
     "output_type": "display_data"
    },
    {
     "data": {
      "image/png": "[encoded data removed]",
      "text/plain": [
       "<Figure size 936x432 with 1 Axes>"
      ]
     },
     "metadata": {
      "needs_background": "light"
     },
     "output_type": "display_data"
    }
   ],
   "source": [
    "from openpyxl import Workbook, load_workbook\n",
    "path_root = os.getcwd()\n",
    "path_data = os.path.join(path_root, '实验一.xlsx')\n",
    "data = pd.read_excel(path_data)\n",
    "df = pd.DataFrame(data)\n",
    "\n",
    "# data.head()\n",
    "X = data['threads'].loc[:6].values.tolist()\n",
    "Y = [i / 2 for i in range(0, 9)]\n",
    "\n",
    "plt.figure(1)\n",
    "plt.figure(figsize = (13, 6))\n",
    "plt.xlabel('threads')\n",
    "plt.ylabel('speedup')\n",
    "plt.xticks(X)  \n",
    "plt.yticks(Y)\n",
    "data25 = pd.DataFrame({'speedup': df.loc[df['percent'] == 25.0][\"speedup\"].values, 'threads': X})\n",
    "data50 = pd.DataFrame({'speedup': df.loc[df['percent'] == 50.0][\"speedup\"].values, 'threads': X})\n",
    "data75 = pd.DataFrame({'speedup': df.loc[df['percent'] == 75.0][\"speedup\"].values, 'threads': X})\n",
    "\n",
    "# data[\"speedup\"]\n",
    "plt.plot(data25.threads.to_list(), data25.speedup.to_list(), c='blue', label='25%')\n",
    "plt.plot(data50.threads.to_list(), data50.speedup.to_list(), c='orange', label='50%')\n",
    "plt.plot(data75.threads.to_list(), data75.speedup.to_list(), c='red', label='75%')\n",
    "\n",
    "plt.grid()\n",
    "plt.legend()\n",
    "plt.show()\n",
    "\n"
   ]
  }
 ],
 "metadata": {
  "kernelspec": {
   "display_name": "Python 3.9.12 ('base')",
   "language": "python",
   "name": "python3"
  },
  "language_info": {
   "codemirror_mode": {
    "name": "ipython",
    "version": 3
   },
   "file_extension": ".py",
   "mimetype": "text/x-python",
   "name": "python",
   "nbconvert_exporter": "python",
   "pygments_lexer": "ipython3",
   "version": "3.9.12"
  },
  "orig_nbformat": 4,
  "vscode": {
   "interpreter": {
    "hash": "49cb93f377a7abe7414b7b0f21fb3017538004a126cf690fb524202736b7fb92"
   }
  }
 },
 "nbformat": 4,
 "nbformat_minor": 2
}
